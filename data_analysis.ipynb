{
 "cells": [
  {
   "cell_type": "markdown",
   "source": [
    "# Anime analysis\n",
    "\n",
    "### Dataset: https://www.kaggle.com/datasets/dbdmobile/myanimelist-dataset"
   ],
   "metadata": {
    "collapsed": false
   },
   "id": "ca5025a16a75fce2"
  },
  {
   "cell_type": "markdown",
   "source": [
    "# Import libraries"
   ],
   "metadata": {
    "collapsed": false
   },
   "id": "19b9ec0b91c84352"
  },
  {
   "cell_type": "code",
   "execution_count": null,
   "id": "initial_id",
   "metadata": {
    "collapsed": true
   },
   "outputs": [],
   "source": [
    "import numpy as np\n",
    "import pandas as pd\n",
    "\n",
    "import seaborn as sns\n",
    "import matplotlib.pyplot as plt"
   ]
  },
  {
   "cell_type": "markdown",
   "source": [
    "## Popular Anime:\n",
    "\n",
    "### What are the top 10 most popular anime based on user ratings?"
   ],
   "metadata": {
    "collapsed": false
   },
   "id": "b4c999ac26eb5e8b"
  },
  {
   "cell_type": "code",
   "outputs": [],
   "source": [
    "# Primero reviso el tipo de dato en las columnas junto con los valores para saber si puedo cambiarlos para ahorrar memoria\n",
    "# First I check the data type in the columns along with the values to see if I can change them to save memory.\n",
    "user_ratings_df = pd.read_csv('users-score-2023.csv', nrows=20)"
   ],
   "metadata": {
    "collapsed": false
   },
   "id": "404a205cc30242a6",
   "execution_count": null
  },
  {
   "cell_type": "code",
   "outputs": [],
   "source": [
    "user_ratings_df.info()"
   ],
   "metadata": {
    "collapsed": false
   },
   "id": "4d7d70db95a0c2ea",
   "execution_count": null
  },
  {
   "cell_type": "code",
   "outputs": [],
   "source": [
    "user_ratings_df['user_id'] = pd.to_numeric(user_ratings_df['user_id'], downcast='unsigned')\n",
    "user_ratings_df['anime_id'] = pd.to_numeric(user_ratings_df['anime_id'], downcast='unsigned')\n",
    "user_ratings_df['rating'] = pd.to_numeric(user_ratings_df['rating'], downcast='unsigned')\n",
    "\n",
    "user_ratings_df['Username'] = user_ratings_df['Username'].astype('category')\n",
    "user_ratings_df['Anime Title'] = user_ratings_df['Anime Title'].astype('category')"
   ],
   "metadata": {
    "collapsed": false
   },
   "id": "479ac0d946ccf3c1",
   "execution_count": null
  },
  {
   "cell_type": "code",
   "outputs": [],
   "source": [
    "def get_column_types(df):\n",
    "    dtypes = df.dtypes\n",
    "    column_names = dtypes.index\n",
    "    types = [types.name for types in dtypes.values]\n",
    "    return dict(zip(column_names, types))"
   ],
   "metadata": {
    "collapsed": false
   },
   "id": "284dd35fbc231a1c",
   "execution_count": null
  },
  {
   "cell_type": "code",
   "outputs": [],
   "source": [
    "column_types = get_column_types(user_ratings_df)"
   ],
   "metadata": {
    "collapsed": false
   },
   "id": "8cc1284771d677fc",
   "execution_count": null
  },
  {
   "cell_type": "code",
   "outputs": [],
   "source": [
    "# Dataframe antes del proceso = 927.9+ MB | Dataframe después del proceso = 242.7 MB\n",
    "# Dataframe before process = 927.9+ MB | Dataframe after process = 242.7 MB\n",
    "user_ratings_df = pd.read_csv('users-score-2023.csv',dtype=column_types)"
   ],
   "metadata": {
    "collapsed": false
   },
   "id": "7eb97500ed69efad",
   "execution_count": null
  },
  {
   "cell_type": "code",
   "outputs": [],
   "source": [
    "# Elimino aquellos animes que no tengan mas de 200 puntuaciones\n",
    "# I delete those animes that don't have more than 200 user ratings\n",
    "min_count = 200\n",
    "user_ratings_df = user_ratings_df[user_ratings_df.groupby('anime_id')['anime_id'].transform('count') > min_count]"
   ],
   "metadata": {
    "collapsed": false
   },
   "id": "7c349443d9f96851",
   "execution_count": null
  },
  {
   "cell_type": "code",
   "outputs": [],
   "source": [
    "anime_ratings = user_ratings_df.groupby('anime_id')['rating'].mean().to_dict()"
   ],
   "metadata": {
    "collapsed": false
   },
   "id": "b97feec1255a8320",
   "execution_count": null
  },
  {
   "cell_type": "code",
   "outputs": [],
   "source": [
    "top_anime_by_user_rating = sorted(anime_ratings.items(), key=lambda x:x[1], reverse=True)[:5]"
   ],
   "metadata": {
    "collapsed": false
   },
   "id": "f1fc1352b674a3b6",
   "execution_count": null
  },
  {
   "cell_type": "code",
   "outputs": [],
   "source": [
    "top_anime_by_user_rating = [(user_ratings_df[user_ratings_df['anime_id'] == id_val]['Anime Title'].values[0], score) for id_val, score in top_anime_by_user_rating]"
   ],
   "metadata": {
    "collapsed": false
   },
   "id": "e4500a3f523c427a",
   "execution_count": null
  },
  {
   "cell_type": "code",
   "outputs": [],
   "source": [
    "top_anime_by_user_rating = pd.DataFrame(top_anime_by_user_rating, columns=['Anime', 'Score'])"
   ],
   "metadata": {
    "collapsed": false
   },
   "id": "c7b1594a1803c1e3",
   "execution_count": null
  },
  {
   "cell_type": "code",
   "outputs": [],
   "source": [
    "top_anime_by_user_rating"
   ],
   "metadata": {
    "collapsed": false
   },
   "id": "e8d1e86e7bf0f001",
   "execution_count": null
  },
  {
   "cell_type": "markdown",
   "source": [
    "## Popular Anime: \n",
    "### Is there a correlation between the number of episodes and the ratings of an anime?"
   ],
   "metadata": {
    "collapsed": false
   },
   "id": "371fe857145265b9"
  },
  {
   "cell_type": "code",
   "outputs": [],
   "source": [
    "# 4.6+ MB | 405.4+ KB\n",
    "columns = ['anime_id', 'Name', 'Score', 'Genres', 'Episodes', 'Aired', 'Premiered', 'Studios', 'Rating', 'Rank', 'Popularity', 'Favorites', 'Members']\n",
    "anime_dataset_df = pd.read_csv('anime-dataset-2023.csv', usecols=columns)"
   ],
   "metadata": {
    "collapsed": false
   },
   "id": "6565aa8ca40fe3cf",
   "execution_count": null
  },
  {
   "cell_type": "code",
   "outputs": [],
   "source": [
    "anime_dataset_df.info()"
   ],
   "metadata": {
    "collapsed": false
   },
   "id": "a436a2bf2988995a",
   "execution_count": null
  },
  {
   "cell_type": "code",
   "outputs": [],
   "source": [
    "# based on anime page 'Not yet aired' and 'R18+' titles are excluded of rank\n",
    "anime_dataset_df = anime_dataset_df[anime_dataset_df['Rank'] != 'UNKNOWN']"
   ],
   "metadata": {
    "collapsed": false
   },
   "id": "6e1bdf638319dc07",
   "execution_count": null
  },
  {
   "cell_type": "code",
   "outputs": [],
   "source": [
    "anime_dataset_df['Rank'] = pd.to_numeric(anime_dataset_df['Rank'], downcast='unsigned', errors='coerce')\n",
    "anime_dataset_df['Score'] = pd.to_numeric(anime_dataset_df['Score'], downcast='unsigned', errors='coerce')\n",
    "anime_dataset_df['Members'] = pd.to_numeric(anime_dataset_df['Members'], downcast='unsigned', errors='coerce')\n",
    "anime_dataset_df['anime_id'] = pd.to_numeric(anime_dataset_df['anime_id'], downcast='unsigned', errors='coerce')\n",
    "anime_dataset_df['Favorites'] = pd.to_numeric(anime_dataset_df['Favorites'], downcast='unsigned', errors='coerce')\n",
    "anime_dataset_df['Popularity'] = pd.to_numeric(anime_dataset_df['Popularity'], downcast='unsigned', errors='coerce')"
   ],
   "metadata": {
    "collapsed": false
   },
   "id": "dcaf111c85503195",
   "execution_count": null
  },
  {
   "cell_type": "code",
   "outputs": [],
   "source": [
    "anime_dataset = anime_dataset_df[['anime_id', 'Episodes', 'Score']].copy()\n",
    "anime_dataset['Episodes'] = pd.to_numeric(anime_dataset['Episodes'], errors='coerce')\n",
    "anime_dataset.dropna(subset=['Episodes'], inplace=True)\n",
    "anime_dataset.reset_index(drop=True, inplace=True)\n",
    "anime_dataset['Episodes'] = pd.to_numeric(anime_dataset['Episodes'], downcast='unsigned')"
   ],
   "metadata": {
    "collapsed": false
   },
   "id": "82919132b59a6c57",
   "execution_count": null
  },
  {
   "cell_type": "code",
   "outputs": [],
   "source": [
    "anime_dataset['Score'] = pd.to_numeric(anime_dataset['Score'], downcast='unsigned')"
   ],
   "metadata": {
    "collapsed": false
   },
   "id": "a473bb776def6432",
   "execution_count": null
  },
  {
   "cell_type": "code",
   "outputs": [],
   "source": [
    "plt.scatter(anime_dataset['Episodes'], anime_dataset['Score'])"
   ],
   "metadata": {
    "collapsed": false
   },
   "id": "8fa70481e59c0b60",
   "execution_count": null
  },
  {
   "cell_type": "code",
   "outputs": [],
   "source": [
    "anime_dataset['Episodes'].corr(anime_dataset['Score'])"
   ],
   "metadata": {
    "collapsed": false
   },
   "id": "ff9af82635172d41",
   "execution_count": null
  },
  {
   "cell_type": "markdown",
   "source": [
    "### El valor cercano a 0 (0.063) sugiere una correlación inexistente, por lo que no hay una relación lineal entre la cantidad de episodios y las puntuaciones de los usuarios"
   ],
   "metadata": {
    "collapsed": false
   },
   "id": "587c2fad55d522e3"
  },
  {
   "cell_type": "markdown",
   "source": [
    "## Genre Analysis:\n",
    "### Which anime genres are most commonly produced?"
   ],
   "metadata": {
    "collapsed": false
   },
   "id": "b213683d7a9f641b"
  },
  {
   "cell_type": "code",
   "outputs": [],
   "source": [
    "anime_genres = anime_dataset_df[anime_dataset_df['Genres'] != 'UNKNOWN']['Genres'].copy()"
   ],
   "metadata": {
    "collapsed": false
   },
   "id": "725e459afda146dc",
   "execution_count": null
  },
  {
   "cell_type": "code",
   "outputs": [],
   "source": [
    "split_values = anime_genres.str.split(',')\n",
    "flat_values = [item.strip() for sublist in split_values for item in sublist]\n",
    "qty_genres = pd.Series(flat_values).value_counts().to_frame()"
   ],
   "metadata": {
    "collapsed": false
   },
   "id": "98b50af6afbd4d27",
   "execution_count": null
  },
  {
   "cell_type": "code",
   "outputs": [],
   "source": [
    "qty_genres.reset_index(inplace=True)"
   ],
   "metadata": {
    "collapsed": false
   },
   "id": "b73c59e00210a9d6",
   "execution_count": null
  },
  {
   "cell_type": "code",
   "outputs": [],
   "source": [
    "qty_genres.rename(columns={'index': 'Genres'}, inplace=True)"
   ],
   "metadata": {
    "collapsed": false
   },
   "id": "3d5c04b3459e1061",
   "execution_count": null
  },
  {
   "cell_type": "code",
   "outputs": [],
   "source": [
    "qty_genres"
   ],
   "metadata": {
    "collapsed": false
   },
   "id": "6377a0431764ebc9",
   "execution_count": null
  },
  {
   "cell_type": "code",
   "outputs": [],
   "source": [
    "num_bars = len(qty_genres)\n",
    "random_colors = sns.color_palette('husl', n_colors=num_bars)\n",
    "\n",
    "qty_genres.plot.bar(x='Genres', y='count', rot=90, figsize=(15,6), color=random_colors, legend=False)"
   ],
   "metadata": {
    "collapsed": false
   },
   "id": "ceaf81493ba97d23",
   "execution_count": null
  },
  {
   "cell_type": "markdown",
   "source": [
    "## Genre Analysis:\n",
    "### Are there certain genres that tend to receive higher ratings?"
   ],
   "metadata": {
    "collapsed": false
   },
   "id": "77bbdfd6ba6a7713"
  },
  {
   "cell_type": "code",
   "outputs": [],
   "source": [
    "unique_genres = qty_genres['Genres'].tolist()"
   ],
   "metadata": {
    "collapsed": false
   },
   "id": "1ccc9829c41e40c5",
   "execution_count": null
  },
  {
   "cell_type": "code",
   "outputs": [],
   "source": [
    "anime_genres_score = anime_dataset_df[anime_dataset_df['Genres'] != 'UNKNOWN'][['anime_id', 'Genres', 'Score']].copy()"
   ],
   "metadata": {
    "collapsed": false
   },
   "id": "efae42a92f7ecfdd",
   "execution_count": null
  },
  {
   "cell_type": "code",
   "outputs": [],
   "source": [
    "for col in unique_genres:\n",
    "    anime_genres_score[col] = 0.0"
   ],
   "metadata": {
    "collapsed": false
   },
   "id": "b1537d5f71b465b2",
   "execution_count": null
  },
  {
   "cell_type": "code",
   "outputs": [],
   "source": [
    "columns_order = list(anime_genres_score['Genres'])"
   ],
   "metadata": {
    "collapsed": false
   },
   "id": "b5e55594e9530765",
   "execution_count": null
  },
  {
   "cell_type": "code",
   "outputs": [],
   "source": [
    "for i, column in enumerate(columns_order):\n",
    "    columns_order[i] = columns_order[i].split(', ')"
   ],
   "metadata": {
    "collapsed": false
   },
   "id": "e7131fd3b40e5fe4",
   "execution_count": null
  },
  {
   "cell_type": "code",
   "outputs": [],
   "source": [
    "anime_genres_score = anime_genres_score[anime_genres_score['Score'] != 'UNKNOWN'].copy()"
   ],
   "metadata": {
    "collapsed": false
   },
   "id": "55d7533dec74fd35",
   "execution_count": null
  },
  {
   "cell_type": "code",
   "outputs": [],
   "source": [
    "anime_genres_score['Score'] = pd.to_numeric(anime_genres_score['Score'], errors='coerce')\n",
    "anime_genres_score.dropna(subset=['Score'], inplace=True)\n",
    "anime_genres_score.reset_index(drop=True, inplace=True)\n",
    "\n",
    "anime_genres_score['Score'] = pd.to_numeric(anime_genres_score['Score'], downcast='unsigned')"
   ],
   "metadata": {
    "collapsed": false
   },
   "id": "1210fb6780df7441",
   "execution_count": null
  },
  {
   "cell_type": "code",
   "outputs": [],
   "source": [
    "for i, row in anime_genres_score.iterrows():\n",
    "    anime_genres_score.loc[i, columns_order[i]] = row['Score']"
   ],
   "metadata": {
    "collapsed": false
   },
   "id": "1dfdc418d2014f37",
   "execution_count": null
  },
  {
   "cell_type": "code",
   "outputs": [],
   "source": [
    "anime_genres_score_mean_list = []"
   ],
   "metadata": {
    "collapsed": false
   },
   "id": "48cc90213b091874",
   "execution_count": null
  },
  {
   "cell_type": "code",
   "outputs": [],
   "source": [
    "for col in unique_genres:\n",
    "    genre_rating = anime_genres_score[anime_genres_score[col] != 0.0]\n",
    "    mean_rating = genre_rating[col].mean()\n",
    "    anime_genres_score_mean_list.append((col, round(mean_rating, 4), len(genre_rating)))"
   ],
   "metadata": {
    "collapsed": false
   },
   "id": "4623b2ee47856be",
   "execution_count": null
  },
  {
   "cell_type": "code",
   "outputs": [],
   "source": [
    "mean_rating_genres = pd.DataFrame(anime_genres_score_mean_list, columns=['Genres', 'mean_rating', 'qty_of_ratings'])"
   ],
   "metadata": {
    "collapsed": false
   },
   "id": "bae579bf7ff19863",
   "execution_count": null
  },
  {
   "cell_type": "code",
   "outputs": [],
   "source": [
    "mean_rating_genres.sort_values(by='mean_rating', ascending=False)"
   ],
   "metadata": {
    "collapsed": false
   },
   "id": "f17e816391e3a549",
   "execution_count": null
  },
  {
   "cell_type": "code",
   "outputs": [],
   "source": [
    "colors = plt.cm.rainbow(np.linspace(0, 1, len(mean_rating_genres['Genres'])))\n",
    "\n",
    "plt.figure(figsize=(17, 10))\n",
    "plt.scatter(mean_rating_genres['qty_of_ratings'], mean_rating_genres['mean_rating'], s=50, alpha=0.5, c=colors)\n",
    "\n",
    "# Annotate each point with its genre\n",
    "for i, genre in enumerate(mean_rating_genres['Genres']):\n",
    "    plt.annotate(genre, (mean_rating_genres['qty_of_ratings'][i], mean_rating_genres['mean_rating'][i]), textcoords=\"offset points\", xytext=(0,5), ha='center')\n",
    "\n",
    "plt.title('Mean Rating vs Quantity of Ratings by Genre')\n",
    "plt.xlabel('Quantity of Ratings')\n",
    "plt.ylabel('Mean Rating')\n",
    "plt.grid(True)\n",
    "plt.show()"
   ],
   "metadata": {
    "collapsed": false
   },
   "id": "94401d3ad29f096",
   "execution_count": null
  },
  {
   "cell_type": "markdown",
   "source": [
    "## Genre Analysis:\n",
    "### What are the most popular genres among different genders?"
   ],
   "metadata": {
    "collapsed": false
   },
   "id": "eb9e5bbb359995f8"
  },
  {
   "cell_type": "code",
   "outputs": [],
   "source": [
    "#3.4+GB | 1.3GB\n",
    "final_anime_dataset_df = pd.read_csv('final_animedataset.csv', nrows=20)"
   ],
   "metadata": {
    "collapsed": false
   },
   "id": "e176f07e7d15b42c",
   "execution_count": null
  },
  {
   "cell_type": "code",
   "outputs": [],
   "source": [
    "final_anime_dataset_df.info()"
   ],
   "metadata": {
    "collapsed": false
   },
   "id": "7389d46ae9301e0c",
   "execution_count": null
  },
  {
   "cell_type": "code",
   "outputs": [],
   "source": [
    "final_anime_dataset_df['user_id'] = pd.to_numeric(final_anime_dataset_df['user_id'], downcast='unsigned')\n",
    "final_anime_dataset_df['anime_id'] = pd.to_numeric(final_anime_dataset_df['anime_id'], downcast='unsigned')\n",
    "final_anime_dataset_df['my_score'] = pd.to_numeric(final_anime_dataset_df['my_score'], downcast='unsigned')\n",
    "final_anime_dataset_df['score'] = pd.to_numeric(final_anime_dataset_df['score'], downcast='unsigned')\n",
    "final_anime_dataset_df['scored_by'] = pd.to_numeric(final_anime_dataset_df['scored_by'], downcast='unsigned')\n",
    "final_anime_dataset_df['popularity'] = pd.to_numeric(final_anime_dataset_df['popularity'], downcast='unsigned')\n",
    "\n",
    "final_anime_dataset_df['username'] = final_anime_dataset_df['username'].astype('category')\n",
    "final_anime_dataset_df['gender'] = final_anime_dataset_df['gender'].astype('category')\n",
    "final_anime_dataset_df['title'] = final_anime_dataset_df['title'].astype('category')\n",
    "final_anime_dataset_df['type'] = final_anime_dataset_df['type'].astype('category')\n",
    "final_anime_dataset_df['source'] = final_anime_dataset_df['source'].astype('category')\n",
    "final_anime_dataset_df['genre'] = final_anime_dataset_df['genre'].astype('category')"
   ],
   "metadata": {
    "collapsed": false
   },
   "id": "d3332f11cb61edd",
   "execution_count": null
  },
  {
   "cell_type": "code",
   "outputs": [],
   "source": [
    "column_types = get_column_types(final_anime_dataset_df)"
   ],
   "metadata": {
    "collapsed": false
   },
   "id": "df25ab7778125e02",
   "execution_count": null
  },
  {
   "cell_type": "code",
   "outputs": [],
   "source": [
    "final_anime_dataset_df = pd.read_csv('final_animedataset.csv', dtype=column_types)"
   ],
   "metadata": {
    "collapsed": false
   },
   "id": "b8e1da6b8e2d9550",
   "execution_count": null
  },
  {
   "cell_type": "code",
   "outputs": [],
   "source": [
    "final_anime_dataset_df['rank'] = pd.to_numeric(final_anime_dataset_df['rank'], downcast='unsigned')"
   ],
   "metadata": {
    "collapsed": false
   },
   "id": "a036e705e4e01292",
   "execution_count": null
  },
  {
   "cell_type": "code",
   "outputs": [],
   "source": [
    "final_anime_dataset_df['gender'] = final_anime_dataset_df['gender'].apply(lambda x: 'Other' if (x != 'Male' and x != 'Female') else x)"
   ],
   "metadata": {
    "collapsed": false
   },
   "id": "51da48604013fb51",
   "execution_count": null
  },
  {
   "cell_type": "code",
   "outputs": [],
   "source": [
    "anime_id_values = {}\n",
    "for _, grouped in final_anime_dataset_df.groupby('anime_id'):\n",
    "    gender_count = grouped['gender'].value_counts()\n",
    "    id_ = grouped['anime_id'].values[0]\n",
    "    male = gender_count['Male'] if 'Male' in gender_count else 0\n",
    "    female = gender_count['Female'] if 'Female' in gender_count else 0\n",
    "    other = gender_count['Other'] if 'Other' in gender_count else 0\n",
    "    anime_id_values[id_] = [male, female, other]"
   ],
   "metadata": {
    "collapsed": false
   },
   "id": "b8ec01d46da347f8",
   "execution_count": null
  },
  {
   "cell_type": "code",
   "outputs": [],
   "source": [
    "mask_genres_list = []\n",
    "for genre in unique_genres:\n",
    "    mask = anime_genres_score[genre] != 0.0\n",
    "    mask_genres_list.append(anime_genres_score[mask]['anime_id'].values)"
   ],
   "metadata": {
    "collapsed": false
   },
   "id": "c8473dea09fa2cfd",
   "execution_count": null
  },
  {
   "cell_type": "code",
   "outputs": [],
   "source": [
    "gender_genre = pd.DataFrame(0, index=unique_genres, columns=['Male', 'Female', 'Other'])"
   ],
   "metadata": {
    "collapsed": false
   },
   "id": "1abd5554779cf75b",
   "execution_count": null
  },
  {
   "cell_type": "code",
   "outputs": [],
   "source": [
    "for i, mask in enumerate(mask_genres_list):\n",
    "    matching_values = [anime_id_values[index] for index in mask if index in anime_id_values]\n",
    "    genre_values = pd.DataFrame(matching_values, columns=gender_genre.columns)\n",
    "    values_list = list(genre_values.sum())\n",
    "    gender_genre.loc[unique_genres[i]] = values_list"
   ],
   "metadata": {
    "collapsed": false
   },
   "id": "9201cc1c1b9e1276",
   "execution_count": null
  },
  {
   "cell_type": "code",
   "outputs": [],
   "source": [
    "gender_genre = gender_genre.head(19)"
   ],
   "metadata": {
    "collapsed": false
   },
   "id": "2dd194ec09081024",
   "execution_count": null
  },
  {
   "cell_type": "code",
   "outputs": [],
   "source": [
    "ax = gender_genre.plot(kind='barh', figsize=(19, 10))\n",
    "\n",
    "ax.set_title('Distribution of Anime Genres by Gender')\n",
    "ax.set_xlabel('Count')\n",
    "ax.set_ylabel('Genres')\n",
    "\n",
    "ax.legend(title='Gender', bbox_to_anchor=(1, 1))\n",
    "\n",
    "plt.show()"
   ],
   "metadata": {
    "collapsed": false
   },
   "id": "9abfd619ef13a8d9",
   "execution_count": null
  },
  {
   "cell_type": "markdown",
   "source": [
    "## User Preferences:\n",
    "### What is the distribution of user ratings for the entire dataset?"
   ],
   "metadata": {
    "collapsed": false
   },
   "id": "708a6a3a90ddbb74"
  },
  {
   "cell_type": "code",
   "outputs": [],
   "source": [
    "anime_ratings_distribution = user_ratings_df[['user_id', 'rating']].copy()"
   ],
   "metadata": {
    "collapsed": false
   },
   "id": "e9b72c38b3ffae42",
   "execution_count": null
  },
  {
   "cell_type": "code",
   "outputs": [],
   "source": [
    "anime_ratings_distribution= anime_ratings_distribution['rating'].value_counts().reset_index()"
   ],
   "metadata": {
    "collapsed": false
   },
   "id": "2f23e2cdf61d7ba9",
   "execution_count": null
  },
  {
   "cell_type": "code",
   "outputs": [],
   "source": [
    "anime_ratings_distribution.sort_values(by='rating', ascending=True, inplace=True)"
   ],
   "metadata": {
    "collapsed": false
   },
   "id": "12b267d3911a9778",
   "execution_count": null
  },
  {
   "cell_type": "code",
   "outputs": [],
   "source": [
    "num_bars = len(anime_ratings_distribution)\n",
    "random_colors = sns.color_palette('husl', n_colors=num_bars)\n",
    "anime_ratings_distribution.plot.bar(x='rating', y='count', color=random_colors, legend=False, figsize=(15, 8))"
   ],
   "metadata": {
    "collapsed": false
   },
   "id": "b3ad23b6bc63046",
   "execution_count": null
  },
  {
   "cell_type": "markdown",
   "source": [
    "## Seasonal Trends:\n",
    "### Do certain genres become more popular during specific seasons?"
   ],
   "metadata": {
    "collapsed": false
   },
   "id": "9a24a1954158c238"
  },
  {
   "cell_type": "code",
   "outputs": [],
   "source": [
    "seasonal_anime = anime_dataset_df[['anime_id', 'Aired', 'Premiered', 'Genres', 'Studios']].copy()"
   ],
   "metadata": {
    "collapsed": false
   },
   "id": "8fbb6f55859cc10b",
   "execution_count": null
  },
  {
   "cell_type": "code",
   "outputs": [],
   "source": [
    "pd.set_option('future.no_silent_downcasting', True)"
   ],
   "metadata": {
    "collapsed": false
   },
   "id": "c51ba63358ce1e87",
   "execution_count": null
  },
  {
   "cell_type": "code",
   "outputs": [],
   "source": [
    "unknown_premiered_anime = seasonal_anime[seasonal_anime['Premiered'] == 'UNKNOWN'].copy()"
   ],
   "metadata": {
    "collapsed": false
   },
   "id": "860630d773aa95bb",
   "execution_count": null
  },
  {
   "cell_type": "code",
   "outputs": [],
   "source": [
    "unknown_premiered_anime['Aired'] = unknown_premiered_anime['Aired'].apply(lambda x: x.split(',')[0])\n",
    "unknown_premiered_anime['Aired'] = unknown_premiered_anime['Aired'].apply(lambda x: x.split(' ')[0])"
   ],
   "metadata": {
    "collapsed": false
   },
   "id": "25524abc20b110bf",
   "execution_count": null
  },
  {
   "cell_type": "code",
   "outputs": [],
   "source": [
    "seasons = {\n",
    "    'Mar': 'spring',\n",
    "    'Apr': 'spring',\n",
    "    'May': 'spring',\n",
    "    'Jun': 'summer',\n",
    "    'Jul': 'summer',\n",
    "    'Aug': 'summer',\n",
    "    'Sep': 'fall',\n",
    "    'Oct': 'fall',\n",
    "    'Nov': 'fall',\n",
    "    'Dec': 'winter',\n",
    "    'Jan': 'winter',\n",
    "    'Feb': 'winter'\n",
    "}"
   ],
   "metadata": {
    "collapsed": false
   },
   "id": "2edb9c875c6437fa",
   "execution_count": null
  },
  {
   "cell_type": "code",
   "outputs": [],
   "source": [
    "unknown_premiered_anime['Premiered'] =  unknown_premiered_anime['Aired'].map(seasons).fillna(unknown_premiered_anime['Premiered'])"
   ],
   "metadata": {
    "collapsed": false
   },
   "id": "67c3f93c9b67fc18",
   "execution_count": null
  },
  {
   "cell_type": "code",
   "outputs": [],
   "source": [
    "seasonal_anime.update(unknown_premiered_anime)"
   ],
   "metadata": {
    "collapsed": false
   },
   "id": "816a7287661bd907",
   "execution_count": null
  },
  {
   "cell_type": "code",
   "outputs": [],
   "source": [
    "seasonal_anime['Premiered'] = seasonal_anime['Premiered'].apply(lambda x: x.split(' ')[0])"
   ],
   "metadata": {
    "collapsed": false
   },
   "id": "537649eacf9e23ef",
   "execution_count": null
  },
  {
   "cell_type": "code",
   "outputs": [],
   "source": [
    "seasonal_anime = seasonal_anime[seasonal_anime['Premiered'] != 'UNKNOWN']"
   ],
   "metadata": {
    "collapsed": false
   },
   "id": "85386183adafa83b",
   "execution_count": null
  },
  {
   "cell_type": "code",
   "outputs": [],
   "source": [
    "seasonal_genre_count = {}\n",
    "for genre in unique_genres:\n",
    "    seasonal_genre_count[genre] = 0"
   ],
   "metadata": {
    "collapsed": false
   },
   "id": "d6ecb66bd456fca7",
   "execution_count": null
  },
  {
   "cell_type": "code",
   "outputs": [],
   "source": [
    "columns_ = []\n",
    "seasonal_genres_values_list = []"
   ],
   "metadata": {
    "collapsed": false
   },
   "id": "c254906ea76fb3e7",
   "execution_count": null
  },
  {
   "cell_type": "code",
   "outputs": [],
   "source": [
    "for _, grouped in seasonal_anime.groupby('Premiered'):\n",
    "    seasonal_genre_count = {key: 0 for key in seasonal_genre_count}\n",
    "    columns_.append(grouped['Premiered'].values[0])\n",
    "    for row in grouped.itertuples():\n",
    "        for genre in unique_genres:\n",
    "            if genre in row.Genres.split(', '):\n",
    "                seasonal_genre_count[genre] += 1\n",
    "    seasonal_genres_values_list.append(list(seasonal_genre_count.values()))"
   ],
   "metadata": {
    "collapsed": false
   },
   "id": "c9f983b225de4683",
   "execution_count": null
  },
  {
   "cell_type": "code",
   "outputs": [],
   "source": [
    "seasonal_genres = pd.DataFrame(0, index=unique_genres, columns=columns_)"
   ],
   "metadata": {
    "collapsed": false
   },
   "id": "9fdf4542afb364e9",
   "execution_count": null
  },
  {
   "cell_type": "code",
   "outputs": [],
   "source": [
    "for i, season in enumerate(columns_):\n",
    "    seasonal_genres[season] = seasonal_genres_values_list[i]"
   ],
   "metadata": {
    "collapsed": false
   },
   "id": "f96cbb805f6a0a7d",
   "execution_count": null
  },
  {
   "cell_type": "code",
   "outputs": [],
   "source": [
    "seasonal_genres = seasonal_genres.reset_index()"
   ],
   "metadata": {
    "collapsed": false
   },
   "id": "f200aac135317b89",
   "execution_count": null
  },
  {
   "cell_type": "code",
   "outputs": [],
   "source": [
    "seasonal_genres_1 = seasonal_genres.iloc[:6]\n",
    "seasonal_genres_2 = seasonal_genres.iloc[6:12]\n",
    "seasonal_genres_3 = seasonal_genres.iloc[12:18]\n",
    "seasonal_genres_4 = seasonal_genres.iloc[18:]"
   ],
   "metadata": {
    "collapsed": false
   },
   "id": "725964747d5e70dd",
   "execution_count": null
  },
  {
   "cell_type": "code",
   "outputs": [],
   "source": [
    "def plot_graphs_genres_season(df, limit_val):\n",
    "    \n",
    "    genres = list(df['index'])\n",
    "\n",
    "    season_names = {\n",
    "        'fall':df['fall'].to_list(),\n",
    "        'spring': df['spring'].to_list(),\n",
    "        'summer': df['summer'].to_list(),\n",
    "        'winter': df['winter'].to_list(),\n",
    "    }\n",
    "    \n",
    "    x = np.arange(len(genres))  # the label locations\n",
    "    width = 0.22  # the width of the bars\n",
    "    multiplier = 0\n",
    "    \n",
    "    fig, _ax = plt.subplots(layout='constrained', figsize=(10,6))\n",
    "    \n",
    "    \n",
    "    for attribute, measurement in season_names.items():\n",
    "        offset = width * multiplier\n",
    "        rects = _ax.bar(x + offset, measurement, width, label=attribute)\n",
    "        _ax.bar_label(rects, padding=4, color='black')\n",
    "        multiplier += 1\n",
    "    \n",
    "    # Add some text for labels, title and custom x-axis tick labels, etc.\n",
    "    _ax.set_ylabel('qty')\n",
    "    _ax.set_xlabel('Genres')\n",
    "    _ax.set_title('Genres by season')\n",
    "    _ax.set_xticks(x + width, genres)\n",
    "    _ax.legend(loc='upper right', ncols=4)\n",
    "    _ax.set_ylim(0, limit_val)\n",
    "    \n",
    "    plt.show()"
   ],
   "metadata": {
    "collapsed": false
   },
   "id": "3ee4a36cff89a5e8",
   "execution_count": null
  },
  {
   "cell_type": "code",
   "outputs": [],
   "source": [
    "plot_graphs_genres_season(seasonal_genres_1, 2100)"
   ],
   "metadata": {
    "collapsed": false
   },
   "id": "9e89b0276bf41006",
   "execution_count": null
  },
  {
   "cell_type": "code",
   "outputs": [],
   "source": [
    "plot_graphs_genres_season(seasonal_genres_2, 610)"
   ],
   "metadata": {
    "collapsed": false
   },
   "id": "33c4a016a3e84e1b",
   "execution_count": null
  },
  {
   "cell_type": "code",
   "outputs": [],
   "source": [
    "plot_graphs_genres_season(seasonal_genres_3, 160)"
   ],
   "metadata": {
    "collapsed": false
   },
   "id": "5823bca64d600c6e",
   "execution_count": null
  },
  {
   "cell_type": "code",
   "outputs": [],
   "source": [
    "plot_graphs_genres_season(seasonal_genres_4, 50)"
   ],
   "metadata": {
    "collapsed": false
   },
   "id": "fc8cb31558d7d926",
   "execution_count": null
  },
  {
   "cell_type": "markdown",
   "source": [
    "## Studios and Directors:\n",
    "### Which studios or directors have the highest average ratings for their anime?"
   ],
   "metadata": {
    "collapsed": false
   },
   "id": "2d6f8f809bf40aa3"
  },
  {
   "cell_type": "code",
   "outputs": [],
   "source": [
    "studios_ratings = anime_dataset_df[['Studios', 'Score', 'Favorites', 'Popularity', 'Rank']].copy()"
   ],
   "metadata": {
    "collapsed": false
   },
   "id": "af85837943917774",
   "execution_count": null
  },
  {
   "cell_type": "code",
   "outputs": [],
   "source": [
    "studios_ratings['Score'] = pd.to_numeric(studios_ratings['Score'], downcast='unsigned', errors='coerce')\n",
    "studios_ratings.dropna(subset=['Score'], inplace=True)\n",
    "studios_ratings.reset_index(drop=True, inplace=True)"
   ],
   "metadata": {
    "collapsed": false
   },
   "id": "ab41c6e0b0e820a3",
   "execution_count": null
  },
  {
   "cell_type": "code",
   "outputs": [],
   "source": [
    "studios_ratings = studios_ratings.assign(Studios=studios_ratings['Studios'].str.split(', ')).explode('Studios')"
   ],
   "metadata": {
    "collapsed": false
   },
   "id": "c20979faa847fec",
   "execution_count": null
  },
  {
   "cell_type": "code",
   "outputs": [],
   "source": [
    "studios_ratings_dict = []"
   ],
   "metadata": {
    "collapsed": false
   },
   "id": "c2c9784c083c6fd5",
   "execution_count": null
  },
  {
   "cell_type": "code",
   "outputs": [],
   "source": [
    "for _, grouped in studios_ratings.groupby('Studios'):\n",
    "    studio = grouped['Studios'].values[0]\n",
    "    qty_animes = len(grouped)\n",
    "    mean_rating = grouped['Score'].mean()\n",
    "    studios_ratings_dict.append((studio, mean_rating, qty_animes))"
   ],
   "metadata": {
    "collapsed": false
   },
   "id": "84aa2624c13d7ca0",
   "execution_count": null
  },
  {
   "cell_type": "code",
   "outputs": [],
   "source": [
    "studios_mean_ratings = pd.DataFrame(studios_ratings_dict, columns=['Studios', 'mean_ratings', 'qty'])\n",
    "studios_mean_ratings.sort_values(by='mean_ratings', ascending=False, inplace=True)"
   ],
   "metadata": {
    "collapsed": false
   },
   "id": "b5ab523d78818d2b",
   "execution_count": null
  },
  {
   "cell_type": "code",
   "outputs": [],
   "source": [
    "studios_mean_ratings"
   ],
   "metadata": {
    "collapsed": false
   },
   "id": "6ecaab34cb6abb79",
   "execution_count": null
  },
  {
   "cell_type": "markdown",
   "source": [
    "## Studios and Directors:\n",
    "### Is there a correlation between the involvement of a specific studio or director and the success of an anime?"
   ],
   "metadata": {
    "collapsed": false
   },
   "id": "c704676ca279267a"
  },
  {
   "cell_type": "code",
   "outputs": [],
   "source": [
    "correlation_matrix = studios_ratings[['Score', 'Favorites', 'Popularity', 'Rank']]\n",
    "\n",
    "correlation_matrix = correlation_matrix[(correlation_matrix['Score'] != 'UNKNOWN')]\n",
    "correlation_matrix = correlation_matrix[(correlation_matrix['Favorites'] != 'UNKNOWN')]\n",
    "correlation_matrix = correlation_matrix[(correlation_matrix['Popularity'] != 'UNKNOWN')]\n",
    "correlation_matrix = correlation_matrix[(correlation_matrix['Rank'] != 'UNKNOWN')]\n",
    "\n",
    "correlation_matrix = correlation_matrix.corr()\n",
    "\n",
    "sns.heatmap(correlation_matrix, annot=True, cmap='coolwarm', fmt='.2f')\n",
    "plt.title('Correlation Matrix: Overall Score vs Favorites')\n",
    "plt.show()"
   ],
   "metadata": {
    "collapsed": false
   },
   "id": "5ed3480a13a33804",
   "execution_count": null
  },
  {
   "cell_type": "markdown",
   "source": [
    "## User Engagement:\n",
    "### Are there specific anime that have high engagement but relatively lower ratings?"
   ],
   "metadata": {
    "collapsed": false
   },
   "id": "260c5d52385cd738"
  },
  {
   "cell_type": "code",
   "outputs": [],
   "source": [
    "members_ratings = anime_dataset_df[['anime_id', 'Name', 'Score', 'Members']].copy()"
   ],
   "metadata": {
    "collapsed": false
   },
   "id": "3dce8cd61b8e3f",
   "execution_count": null
  },
  {
   "cell_type": "code",
   "outputs": [],
   "source": [
    "members_ratings.sort_values(['Score', 'Members'],ascending = [True, False], inplace=True)"
   ],
   "metadata": {
    "collapsed": false
   },
   "id": "d1491f799cfc38bf",
   "execution_count": null
  },
  {
   "cell_type": "code",
   "outputs": [],
   "source": [
    "members_ratings = members_ratings[members_ratings['Members'] > 1000000].head(15)"
   ],
   "metadata": {
    "collapsed": false
   },
   "id": "176bc52e9e7808a1",
   "execution_count": null
  },
  {
   "cell_type": "code",
   "outputs": [],
   "source": [
    "members_ratings.reset_index(drop=True, inplace=True)"
   ],
   "metadata": {
    "collapsed": false
   },
   "id": "7724b684e8013373",
   "execution_count": null
  },
  {
   "cell_type": "code",
   "outputs": [],
   "source": [
    "plt.figure(figsize=(15, 10))\n",
    "plt.scatter(members_ratings['Score'], members_ratings['Members'], color='blue', alpha=0.7)\n",
    "\n",
    "for i, txt in enumerate(members_ratings['Name']):\n",
    "    plt.text(members_ratings['Score'][i], members_ratings['Members'][i], txt, fontsize=8, ha='right')\n",
    "\n",
    "plt.title('Anime Scores vs Members')\n",
    "plt.xlabel('Score')\n",
    "plt.ylabel('Members')\n",
    "plt.grid(True)\n",
    "plt.show()"
   ],
   "metadata": {
    "collapsed": false
   },
   "id": "695d0ea4a090d7df",
   "execution_count": null
  },
  {
   "cell_type": "markdown",
   "source": [
    "## Demographic Analysis:\n",
    "### Is there a difference in preferences between male and female users?"
   ],
   "metadata": {
    "collapsed": false
   },
   "id": "514e8bab28c5b4db"
  },
  {
   "cell_type": "code",
   "outputs": [],
   "source": [
    "gender_preference_df = final_anime_dataset_df[(final_anime_dataset_df['gender'] != 'Non-Binary')][['gender', 'genre']].copy()\n",
    "gender_preference_df = gender_preference_df[~gender_preference_df['genre'].isna()]"
   ],
   "metadata": {
    "collapsed": false
   },
   "id": "6941c147c8e89bba",
   "execution_count": null
  },
  {
   "cell_type": "code",
   "outputs": [],
   "source": [
    "male_gender_preference = {}\n",
    "female_gender_preference = {}"
   ],
   "metadata": {
    "collapsed": false
   },
   "id": "cb4fee9a02f33c85",
   "execution_count": null
  },
  {
   "cell_type": "code",
   "outputs": [],
   "source": [
    "unique_genres = gender_preference_df['genre'].str.split(', ')"
   ],
   "metadata": {
    "collapsed": false
   },
   "id": "fd3fd93d7f202e66",
   "execution_count": null
  },
  {
   "cell_type": "code",
   "outputs": [],
   "source": [
    "from itertools import chain\n",
    " \n",
    "columns_order_genre_unique = set(chain(*unique_genres.tolist()))"
   ],
   "metadata": {
    "collapsed": false
   },
   "id": "cfbb7dca942319c",
   "execution_count": null
  },
  {
   "cell_type": "code",
   "outputs": [],
   "source": [
    "columns_order_genre_unique = list(columns_order_genre_unique)"
   ],
   "metadata": {
    "collapsed": false
   },
   "id": "62e4cabf1fd8f667",
   "execution_count": null
  },
  {
   "cell_type": "code",
   "outputs": [],
   "source": [
    "for unique_genre in columns_order_genre_unique:\n",
    "    male_gender_preference[unique_genre] = 0\n",
    "    female_gender_preference[unique_genre] = 0"
   ],
   "metadata": {
    "collapsed": false
   },
   "id": "44f44aa1ec8d27de",
   "execution_count": null
  },
  {
   "cell_type": "code",
   "outputs": [],
   "source": [
    "for genre in columns_order_genre_unique:\n",
    "    mask_male = gender_preference_df['gender'] == 'Male'\n",
    "    mask_female = gender_preference_df['gender'] == 'Female'\n",
    "    \n",
    "    male_pref = gender_preference_df[gender_preference_df['gender'] == 'Male']\n",
    "    male_gender_preference[genre] = len(male_pref[male_pref['genre'].str.contains(genre)])\n",
    "    \n",
    "    female_pref = gender_preference_df[gender_preference_df['gender'] == 'Female']\n",
    "    female_gender_preference[genre] = len(female_pref[female_pref['genre'].str.contains(genre)])"
   ],
   "metadata": {
    "collapsed": false
   },
   "id": "557cfb1080ac07d9",
   "execution_count": null
  },
  {
   "cell_type": "code",
   "outputs": [],
   "source": [
    "genres_gender_values = []"
   ],
   "metadata": {
    "collapsed": false
   },
   "id": "e8eae1093a75bed5",
   "execution_count": null
  },
  {
   "cell_type": "code",
   "outputs": [],
   "source": [
    "for key in male_gender_preference:\n",
    "    genres_gender_values.append((key, male_gender_preference[key], female_gender_preference[key]))"
   ],
   "metadata": {
    "collapsed": false
   },
   "id": "65cc66471fb02787",
   "execution_count": null
  },
  {
   "cell_type": "code",
   "outputs": [],
   "source": [
    "genres_gender = pd.DataFrame(genres_gender_values, columns=['Genres', 'Male', 'Female'])"
   ],
   "metadata": {
    "collapsed": false
   },
   "id": "50a45bcf07984a93",
   "execution_count": null
  },
  {
   "cell_type": "code",
   "outputs": [],
   "source": [
    "genres_gender.sort_values(by=['Male', 'Female'], ascending=False, inplace=True)"
   ],
   "metadata": {
    "collapsed": false
   },
   "id": "506722f6891ceed",
   "execution_count": null
  },
  {
   "cell_type": "code",
   "outputs": [],
   "source": [
    "genres_gender"
   ],
   "metadata": {
    "collapsed": false
   },
   "id": "6e1e9e7cdd4cc8b8",
   "execution_count": null
  },
  {
   "cell_type": "code",
   "outputs": [],
   "source": [
    "ax = genres_gender.plot(x='Genres', y=['Male', 'Female'], kind='bar', figsize=(17, 10))\n",
    "ax.set_ylabel('Values')\n",
    "ax.set_title('Grouped Bar Chart by Genre')\n",
    "plt.xticks(rotation=90, ha='right')\n",
    "plt.show()"
   ],
   "metadata": {
    "collapsed": false
   },
   "id": "9d78ac5b5a6f6536",
   "execution_count": null
  }
 ],
 "metadata": {
  "kernelspec": {
   "display_name": "Python 3",
   "language": "python",
   "name": "python3"
  },
  "language_info": {
   "codemirror_mode": {
    "name": "ipython",
    "version": 2
   },
   "file_extension": ".py",
   "mimetype": "text/x-python",
   "name": "python",
   "nbconvert_exporter": "python",
   "pygments_lexer": "ipython2",
   "version": "2.7.6"
  }
 },
 "nbformat": 4,
 "nbformat_minor": 5
}
