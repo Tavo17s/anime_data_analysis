{
 "cells": [
  {
   "cell_type": "markdown",
   "source": [
    "# Anime Recommendation System\n",
    "\n",
    "### Dataset: https://www.kaggle.com/datasets/dbdmobile/myanimelist-dataset"
   ],
   "metadata": {
    "collapsed": false
   },
   "id": "3d1cc9359a4991f2"
  },
  {
   "cell_type": "code",
   "execution_count": 1,
   "id": "initial_id",
   "metadata": {
    "collapsed": true,
    "ExecuteTime": {
     "end_time": "2024-02-03T22:54:34.743630100Z",
     "start_time": "2024-02-03T22:54:34.033030600Z"
    }
   },
   "outputs": [],
   "source": [
    "import pandas as pd\n",
    "from sklearn.feature_extraction.text import CountVectorizer\n",
    "from sklearn.metrics.pairwise import cosine_similarity\n",
    "\n",
    "from rapidfuzz import fuzz"
   ]
  },
  {
   "cell_type": "code",
   "outputs": [],
   "source": [
    "anime_df = pd.read_csv('anime-filtered.csv')"
   ],
   "metadata": {
    "collapsed": false,
    "ExecuteTime": {
     "end_time": "2024-02-03T22:54:34.895327300Z",
     "start_time": "2024-02-03T22:54:34.743630100Z"
    }
   },
   "id": "351db37d551aa7d2",
   "execution_count": 2
  },
  {
   "cell_type": "code",
   "outputs": [
    {
     "data": {
      "text/plain": "   anime_id                             Name  Score  \\\n0         1                     Cowboy Bebop   8.78   \n1         5  Cowboy Bebop: Tengoku no Tobira   8.39   \n2         6                           Trigun   8.24   \n3         7               Witch Hunter Robin   7.27   \n4         8                   Bouken Ou Beet   6.98   \n\n                                              Genres            English name  \\\n0    Action, Adventure, Comedy, Drama, Sci-Fi, Space            Cowboy Bebop   \n1              Action, Drama, Mystery, Sci-Fi, Space  Cowboy Bebop:The Movie   \n2  Action, Sci-Fi, Adventure, Comedy, Drama, Shounen                  Trigun   \n3  Action, Mystery, Police, Supernatural, Drama, ...      Witch Hunter Robin   \n4          Adventure, Fantasy, Shounen, Supernatural  Beet the Vandel Buster   \n\n                      Japanese name  \\\n0                         カウボーイビバップ   \n1                    カウボーイビバップ 天国の扉   \n2                             トライガン   \n3  Witch Hunter ROBIN (ウイッチハンターロビン)   \n4                            冒険王ビィト   \n\n                                           sypnopsis   Type Episodes  \\\n0  In the year 2071, humanity has colonized sever...     TV       26   \n1  other day, another bounty—such is the life of ...  Movie        1   \n2  Vash the Stampede is the man with a $$60,000,0...     TV       26   \n3  ches are individuals with special powers like ...     TV       26   \n4  It is the dark century and the people are suff...     TV       52   \n\n                          Aired  ...         Duration  \\\n0   Apr 3, 1998 to Apr 24, 1999  ...  24 min. per ep.   \n1                   Sep 1, 2001  ...    1 hr. 55 min.   \n2   Apr 1, 1998 to Sep 30, 1998  ...  24 min. per ep.   \n3   Jul 2, 2002 to Dec 24, 2002  ...  25 min. per ep.   \n4  Sep 30, 2004 to Sep 29, 2005  ...  23 min. per ep.   \n\n                           Rating  Ranked Popularity  Members Favorites  \\\n0  R - 17+ (violence & profanity)    28.0         39  1251960     61971   \n1  R - 17+ (violence & profanity)   159.0        518   273145      1174   \n2       PG-13 - Teens 13 or older   266.0        201   558913     12944   \n3       PG-13 - Teens 13 or older  2481.0       1467    94683       587   \n4                   PG - Children  3710.0       4369    13224        18   \n\n  Watching  Completed  On-Hold  Dropped  \n0   105808     718161    71513    26678  \n1     4143     208333     1935      770  \n2    29113     343492    25465    13925  \n3     4300      46165     5121     5378  \n4      642       7314      766     1108  \n\n[5 rows x 25 columns]",
      "text/html": "<div>\n<style scoped>\n    .dataframe tbody tr th:only-of-type {\n        vertical-align: middle;\n    }\n\n    .dataframe tbody tr th {\n        vertical-align: top;\n    }\n\n    .dataframe thead th {\n        text-align: right;\n    }\n</style>\n<table border=\"1\" class=\"dataframe\">\n  <thead>\n    <tr style=\"text-align: right;\">\n      <th></th>\n      <th>anime_id</th>\n      <th>Name</th>\n      <th>Score</th>\n      <th>Genres</th>\n      <th>English name</th>\n      <th>Japanese name</th>\n      <th>sypnopsis</th>\n      <th>Type</th>\n      <th>Episodes</th>\n      <th>Aired</th>\n      <th>...</th>\n      <th>Duration</th>\n      <th>Rating</th>\n      <th>Ranked</th>\n      <th>Popularity</th>\n      <th>Members</th>\n      <th>Favorites</th>\n      <th>Watching</th>\n      <th>Completed</th>\n      <th>On-Hold</th>\n      <th>Dropped</th>\n    </tr>\n  </thead>\n  <tbody>\n    <tr>\n      <th>0</th>\n      <td>1</td>\n      <td>Cowboy Bebop</td>\n      <td>8.78</td>\n      <td>Action, Adventure, Comedy, Drama, Sci-Fi, Space</td>\n      <td>Cowboy Bebop</td>\n      <td>カウボーイビバップ</td>\n      <td>In the year 2071, humanity has colonized sever...</td>\n      <td>TV</td>\n      <td>26</td>\n      <td>Apr 3, 1998 to Apr 24, 1999</td>\n      <td>...</td>\n      <td>24 min. per ep.</td>\n      <td>R - 17+ (violence &amp; profanity)</td>\n      <td>28.0</td>\n      <td>39</td>\n      <td>1251960</td>\n      <td>61971</td>\n      <td>105808</td>\n      <td>718161</td>\n      <td>71513</td>\n      <td>26678</td>\n    </tr>\n    <tr>\n      <th>1</th>\n      <td>5</td>\n      <td>Cowboy Bebop: Tengoku no Tobira</td>\n      <td>8.39</td>\n      <td>Action, Drama, Mystery, Sci-Fi, Space</td>\n      <td>Cowboy Bebop:The Movie</td>\n      <td>カウボーイビバップ 天国の扉</td>\n      <td>other day, another bounty—such is the life of ...</td>\n      <td>Movie</td>\n      <td>1</td>\n      <td>Sep 1, 2001</td>\n      <td>...</td>\n      <td>1 hr. 55 min.</td>\n      <td>R - 17+ (violence &amp; profanity)</td>\n      <td>159.0</td>\n      <td>518</td>\n      <td>273145</td>\n      <td>1174</td>\n      <td>4143</td>\n      <td>208333</td>\n      <td>1935</td>\n      <td>770</td>\n    </tr>\n    <tr>\n      <th>2</th>\n      <td>6</td>\n      <td>Trigun</td>\n      <td>8.24</td>\n      <td>Action, Sci-Fi, Adventure, Comedy, Drama, Shounen</td>\n      <td>Trigun</td>\n      <td>トライガン</td>\n      <td>Vash the Stampede is the man with a $$60,000,0...</td>\n      <td>TV</td>\n      <td>26</td>\n      <td>Apr 1, 1998 to Sep 30, 1998</td>\n      <td>...</td>\n      <td>24 min. per ep.</td>\n      <td>PG-13 - Teens 13 or older</td>\n      <td>266.0</td>\n      <td>201</td>\n      <td>558913</td>\n      <td>12944</td>\n      <td>29113</td>\n      <td>343492</td>\n      <td>25465</td>\n      <td>13925</td>\n    </tr>\n    <tr>\n      <th>3</th>\n      <td>7</td>\n      <td>Witch Hunter Robin</td>\n      <td>7.27</td>\n      <td>Action, Mystery, Police, Supernatural, Drama, ...</td>\n      <td>Witch Hunter Robin</td>\n      <td>Witch Hunter ROBIN (ウイッチハンターロビン)</td>\n      <td>ches are individuals with special powers like ...</td>\n      <td>TV</td>\n      <td>26</td>\n      <td>Jul 2, 2002 to Dec 24, 2002</td>\n      <td>...</td>\n      <td>25 min. per ep.</td>\n      <td>PG-13 - Teens 13 or older</td>\n      <td>2481.0</td>\n      <td>1467</td>\n      <td>94683</td>\n      <td>587</td>\n      <td>4300</td>\n      <td>46165</td>\n      <td>5121</td>\n      <td>5378</td>\n    </tr>\n    <tr>\n      <th>4</th>\n      <td>8</td>\n      <td>Bouken Ou Beet</td>\n      <td>6.98</td>\n      <td>Adventure, Fantasy, Shounen, Supernatural</td>\n      <td>Beet the Vandel Buster</td>\n      <td>冒険王ビィト</td>\n      <td>It is the dark century and the people are suff...</td>\n      <td>TV</td>\n      <td>52</td>\n      <td>Sep 30, 2004 to Sep 29, 2005</td>\n      <td>...</td>\n      <td>23 min. per ep.</td>\n      <td>PG - Children</td>\n      <td>3710.0</td>\n      <td>4369</td>\n      <td>13224</td>\n      <td>18</td>\n      <td>642</td>\n      <td>7314</td>\n      <td>766</td>\n      <td>1108</td>\n    </tr>\n  </tbody>\n</table>\n<p>5 rows × 25 columns</p>\n</div>"
     },
     "execution_count": 3,
     "metadata": {},
     "output_type": "execute_result"
    }
   ],
   "source": [
    "anime_df.head()"
   ],
   "metadata": {
    "collapsed": false,
    "ExecuteTime": {
     "end_time": "2024-02-03T22:54:34.919456800Z",
     "start_time": "2024-02-03T22:54:34.895327300Z"
    }
   },
   "id": "e62918e0f8ef61c",
   "execution_count": 3
  },
  {
   "cell_type": "code",
   "outputs": [],
   "source": [
    "anime_df.drop('anime_id', axis=1, inplace=True)\n",
    "anime_df.reset_index(drop=False, inplace=True)\n",
    "anime_df.rename(columns={'index': 'anime_id'}, inplace=True)"
   ],
   "metadata": {
    "collapsed": false,
    "ExecuteTime": {
     "end_time": "2024-02-03T22:54:34.929958600Z",
     "start_time": "2024-02-03T22:54:34.916450Z"
    }
   },
   "id": "7643c4f4996031c0",
   "execution_count": 4
  },
  {
   "cell_type": "code",
   "outputs": [],
   "source": [
    "features = ['Score', 'Genres', 'Studios', 'Producers', 'Episodes', 'Source']"
   ],
   "metadata": {
    "collapsed": false,
    "ExecuteTime": {
     "end_time": "2024-02-03T22:54:34.937497300Z",
     "start_time": "2024-02-03T22:54:34.923116800Z"
    }
   },
   "id": "997c75c58e0c109c",
   "execution_count": 5
  },
  {
   "cell_type": "code",
   "outputs": [],
   "source": [
    "for feature in features:\n",
    "    anime_df[feature] = anime_df[feature].astype('str')\n",
    "    anime_df[feature] = anime_df[feature].fillna('')"
   ],
   "metadata": {
    "collapsed": false,
    "ExecuteTime": {
     "end_time": "2024-02-03T22:54:34.989559300Z",
     "start_time": "2024-02-03T22:54:34.930959Z"
    }
   },
   "id": "b95f677cf41a63da",
   "execution_count": 6
  },
  {
   "cell_type": "code",
   "outputs": [],
   "source": [
    "def combined_features(row)-> str:\n",
    "    return row['Genres']+\" \"+row['Score']+\" \"+row['Studios']+\" \"+row['Producers']+\" \"+row['Source']+\" \"+row['Episodes']"
   ],
   "metadata": {
    "collapsed": false,
    "ExecuteTime": {
     "end_time": "2024-02-03T22:54:34.993558800Z",
     "start_time": "2024-02-03T22:54:34.955663500Z"
    }
   },
   "id": "ec52465af08420a8",
   "execution_count": 7
  },
  {
   "cell_type": "code",
   "outputs": [],
   "source": [
    "def get_index_from_anime(name: str) -> str:\n",
    "\n",
    "    anime_df['ratio_normal'] = anime_df['Name'].apply(lambda row: fuzz.ratio(row, name))\n",
    "    highest_ratio_row_1 = anime_df.loc[anime_df['ratio_normal'].idxmax()]\n",
    "    \n",
    "    anime_df['ratio_english'] = anime_df['English name'].apply(lambda row: fuzz.ratio(row, name))\n",
    "    highest_ratio_row_2 = anime_df.loc[anime_df['ratio_english'].idxmax()]\n",
    "    \n",
    "    row1 = fuzz.ratio(highest_ratio_row_1['Name'], name)\n",
    "    row2 = fuzz.ratio(highest_ratio_row_2['English name'], name)\n",
    "    \n",
    "    return highest_ratio_row_1['anime_id'] if row1 > row2 else highest_ratio_row_2['anime_id']"
   ],
   "metadata": {
    "collapsed": false,
    "ExecuteTime": {
     "end_time": "2024-02-03T22:54:34.994568600Z",
     "start_time": "2024-02-03T22:54:34.960188600Z"
    }
   },
   "id": "96dcb60b236288df",
   "execution_count": 8
  },
  {
   "cell_type": "code",
   "outputs": [],
   "source": [
    "def get_recommendation(anime_name: str) -> list:\n",
    "    \n",
    "    anime_index = get_index_from_anime(anime_name)\n",
    "    similar_animes = list(enumerate(cosine_sim[anime_index]))\n",
    "    sorted_similar_animes = sorted(similar_animes, key = lambda x:x[1], reverse = True)[:100]\n",
    "    \n",
    "    result = []\n",
    "    i=0\n",
    "    for anime_ref in sorted_similar_animes:\n",
    "        if i >= 10:\n",
    "            break\n",
    "        anime_name_in_df = anime_df[anime_df.index == anime_ref[0]][\"Name\"].values[0]\n",
    "        \n",
    "        if anime_name.split(\" \")[0] == anime_name_in_df.split(\" \")[0]:\n",
    "            continue\n",
    "        \n",
    "        result.append(anime_name_in_df)\n",
    "        i+=1\n",
    "        \n",
    "    return result"
   ],
   "metadata": {
    "collapsed": false,
    "ExecuteTime": {
     "end_time": "2024-02-03T22:54:34.994568600Z",
     "start_time": "2024-02-03T22:54:34.974088Z"
    }
   },
   "id": "9462b1954333ba53",
   "execution_count": 9
  },
  {
   "cell_type": "code",
   "outputs": [],
   "source": [
    "anime_df['combined_features'] = anime_df.apply(combined_features,axis = 1)"
   ],
   "metadata": {
    "collapsed": false,
    "ExecuteTime": {
     "end_time": "2024-02-03T22:54:35.167122Z",
     "start_time": "2024-02-03T22:54:34.986571600Z"
    }
   },
   "id": "21e0a6f06bb436c0",
   "execution_count": 10
  },
  {
   "cell_type": "code",
   "outputs": [],
   "source": [
    "cv = CountVectorizer()\n",
    "count_matrix = cv.fit_transform(anime_df['combined_features'])"
   ],
   "metadata": {
    "collapsed": false,
    "ExecuteTime": {
     "end_time": "2024-02-03T22:54:35.269088Z",
     "start_time": "2024-02-03T22:54:35.240656800Z"
    }
   },
   "id": "7d3572f611c0ccad",
   "execution_count": 11
  },
  {
   "cell_type": "code",
   "outputs": [],
   "source": [
    "cosine_sim = cosine_similarity(count_matrix)"
   ],
   "metadata": {
    "collapsed": false,
    "ExecuteTime": {
     "end_time": "2024-02-03T22:54:38.047660100Z",
     "start_time": "2024-02-03T22:54:35.266092600Z"
    }
   },
   "id": "992c6add73bcab62",
   "execution_count": 12
  },
  {
   "cell_type": "code",
   "outputs": [
    {
     "data": {
      "text/plain": "['Stop!! Hibari-kun!',\n 'Air Gear Special',\n 'Kindaichi Shounen no Jikenbo: Kuromajutsu Satsujin Jiken-hen',\n 'Tiger Mask Fuku Men League Sen',\n 'Kindaichi Shounen no Jikenbo: Shinigami Byouin Satsujin Jiken',\n 'One Piece Film: Gold',\n 'Hokuto no Ken Movie',\n 'One Piece: Jango no Dance Carnival',\n 'One Piece: Straw Hat Theater',\n 'Sekishoku Elegy']"
     },
     "execution_count": 13,
     "metadata": {},
     "output_type": "execute_result"
    }
   ],
   "source": [
    "your_anime = \"Jujutsu Kaisen\"\n",
    "top_ten_recommendations = get_recommendation(your_anime)\n",
    "top_ten_recommendations"
   ],
   "metadata": {
    "collapsed": false,
    "ExecuteTime": {
     "end_time": "2024-02-03T22:54:38.079719200Z",
     "start_time": "2024-02-03T22:54:38.048642900Z"
    }
   },
   "id": "cbef256d1f543206",
   "execution_count": 13
  }
 ],
 "metadata": {
  "kernelspec": {
   "display_name": "Python 3",
   "language": "python",
   "name": "python3"
  },
  "language_info": {
   "codemirror_mode": {
    "name": "ipython",
    "version": 2
   },
   "file_extension": ".py",
   "mimetype": "text/x-python",
   "name": "python",
   "nbconvert_exporter": "python",
   "pygments_lexer": "ipython2",
   "version": "2.7.6"
  }
 },
 "nbformat": 4,
 "nbformat_minor": 5
}
